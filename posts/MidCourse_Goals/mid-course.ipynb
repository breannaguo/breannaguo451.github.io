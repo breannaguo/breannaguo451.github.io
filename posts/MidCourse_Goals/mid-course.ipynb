{
 "cells": [
  {
   "attachments": {},
   "cell_type": "markdown",
   "metadata": {},
   "source": [
    "# CSCI 0451: Mid-Course Reflection\n",
    "\n",
    "Breanna Guo"
   ]
  },
  {
   "attachments": {},
   "cell_type": "markdown",
   "metadata": {},
   "source": [
    "## The Data\n",
    "\n",
    "*In this section I'll ask you to fill in some data. You don't have to give precise numbers -- approximate, conversational responses are fine. For example, when I ask \"how often have you attended class,\" good answers include \"almost always,\" \"I've missed three times,\" \"about 75% of the time,\" \"not as often as I want,\" etc.* \n",
    "\n",
    "### Presence in Class\n",
    "\n",
    "- *How often have you attended class? (e.g. \"almost always,\" \"I missed three times,\" etc.)* I have attended every class except one, when I attended a conference.\n",
    "- *How often have you taken notes on the core readings ahead of the class period?* I do the readings, I don't necessarily take notes unless for personal reasons.\n",
    "- *How often have you been **prepared** to present the daily warm-up exercise to your team, even if you weren't actually called?* I have most always been prepared to engage in the warm-up exercise.\n",
    "- *How many times have you **actually** presented the daily warm-up to your team?* I've lead a couple of times, and we've done group discussions a number of times as well when I wasn't leader.\n",
    "- *How many times have you asked your team for help while presenting the daily warm-up?* I have had questions about the warmup when presenting.\n",
    "- *How often have you learned something new from a teammate's presentation of the daily warm-up?* Almost every class\n",
    "- *How often have you helped a teammate during the daily warm-up presentation?* Once or twice. We will often discuss how we approached the question.\n",
    "\n",
    "### Presence Outside of Class \n",
    "\n",
    "- *How often have you attended Student Hours or Peer Help?* Once or twice\n",
    "- *How often have you asked for or received help from your fellow students?* Often, for warmups and blog posts\n",
    "- *Have you been regularly participating in a study group outside class?* No\n",
    "- *How often have you posted questions or answers in Slack?* Not at all\n",
    "\n",
    "### Assignments and Effort\n",
    "\n",
    "- *How many blog posts have you submitted?* 2\n",
    "- *How many of your submitted blog posts are at each of the following feedback stages?*\n",
    "    - E: *No revisions suggested:* 1\n",
    "    - M: *Revisions useful:* 0\n",
    "    - R: *Revisions encouraged:* 1\n",
    "    - N: *Incomplete:* 1\n",
    "- *Roughly how many hours per week have you spent on this course outside of class?* 2-3\n"
   ]
  },
  {
   "attachments": {},
   "cell_type": "markdown",
   "metadata": {},
   "source": [
    "## What You've Learned\n",
    "\n",
    "*At the beginning of the course, you may have expressed an interest in focusing a little extra on one or two of the following four categories:* \n",
    "\n",
    "- ***Theory***: *mathematical descriptions of frameworks and algorithms.*\n",
    "- ***Implementation***: *effective coding and use of tools in order to implement efficient machine learning algorithms.*\n",
    "- ***Experimentation***: *performing experiments to assess the performance of algorithms and clearly communicating about the results.*\n",
    "- ***Social responsibility***: *critical analysis of sources of bias and harm in machine learning algorithms; theoretical formulations of fairness and bias*\n",
    "\n",
    "*Did you choose to focus on any of these categories? If so, what have you done in order to pursue your interest?*    "
   ]
  },
  {
   "attachments": {},
   "cell_type": "markdown",
   "metadata": {},
   "source": [
    "I spent a lot of time on the social responsibility category of this class, mainly due to my involvement with WiDS, but also because I found learning about it really fascinating. I've found myself doing additional readings outside of class and taking on an project in another class using the COMPAS dataset to further explore potential biases in the algorithm. \n",
    "\n",
    "I am quite interested in the theory element because I see so many parallels and applications while taking Multi variable calculus right now. I hope to do a blog post on logistic regression or some other method soon."
   ]
  },
  {
   "attachments": {},
   "cell_type": "markdown",
   "metadata": {},
   "source": [
    "## Reflecting on Goals\n",
    "\n",
    "*For each of the categories below, replace the \"[your response here]\" cell with 1-2 paragraphs in which you reflect on the following questions:* \n",
    "\n",
    "- *In what ways are you **on track to meet your goals** from the beginning of the course? Be specific: explain what the goal is and what you are doing in order to meet it.* \n",
    "When I made my goals at the start of this semester, I was about one day out from talking to Prof. Phil about taking this course credit/no credit. I made those goals without thinking too hard because I knew I would be reassessing them very soon. I'd say my *goals* from the start of the semester were:\n",
    "    * Completing 4 Blog posts, one on each of the categories\n",
    "        - This, I am halfway through at this point, and as we are halfway throught the semester that seems about right.\n",
    "    * Coming prepared to each class by completing the warmup\n",
    "        - I've done all the warmups to the best of my ability so far, so this goal seems well on track\n",
    "    * Participating in class\n",
    "        - I think I've been doing alright participation-wise. I definitely don't ask all the questions that I have so I could be better about that. But in terms of group participation, I have been participating well in the warmup activity discussions\n",
    "    *Doing the Final Project\n",
    "        - This hasn't happened yet but I'm thinking of a topic that I'm interested in which is a good start.\n",
    "\n",
    "Regarding blog posts, I feel on track, but I would like to check in with Prof. Phil about which blog posts I want to complete in the future. I feel the best about my warmup and class participation so far.\n",
    "\n",
    "- *In what ways are you **not on track to meet your goals** from the beginning of the course? Be specific: explain what the goal is and what gap you see between where you are and your goal.* \n",
    "Mainly, I would like to ask more questions in class. I have definitely felt lost at some points when talking through the math methods and therefore lost the thread, so being more proactive when I start to feel lost would be a good way for me to enhance my understanding of the course material.\n",
    "\n",
    "I also haven't engaged too heavily in any study group. I think part of me taking this class credit no credit means I haven't needed to engage is too many outside of class activities. I do see myself using study groups more heavily, especially my final project group when we start working on the projects.\n",
    "\n",
    "- *If there's any **context** you want to share about how you are faring relative to your goals, please do!*\n",
    "\n",
    "I'm feeling good about where I am relative to my goals, but I would like to check in with Prof. Phil again soon to discuss my trajectory for the next half of this course. March was the data collecting and cleaning portion of my econ thesis and I really had to clean that data. I'm getting to a point where the data is usable, and once it's usable, all I have to do it type of some lines of code to run the regressions. That means I will hopefully have more time to give to my other classes, and work on the final project and blog posts\n",
    "\n",
    "### Blog Posts"
   ]
  },
  {
   "attachments": {},
   "cell_type": "markdown",
   "metadata": {},
   "source": [
    "I am halfway through completing my goal of 4 blog posts at this point, and as we are halfway throught the semester that seems about right. I would like to check in with Prof. Phil about which blog posts I want to complete in the future. I feel the best about my warmup and class participation so far."
   ]
  },
  {
   "attachments": {},
   "cell_type": "markdown",
   "metadata": {},
   "source": [
    "### Course Presence (Participation)"
   ]
  },
  {
   "attachments": {},
   "cell_type": "markdown",
   "metadata": {},
   "source": [
    "I think I've been doing alright participation-wise. I definitely don't ask all the questions that I have so I could be better about that. But in terms of group participation, I have been participating well in the warmup activity discussions"
   ]
  },
  {
   "attachments": {},
   "cell_type": "markdown",
   "metadata": {},
   "source": [
    "### Project "
   ]
  },
  {
   "attachments": {},
   "cell_type": "markdown",
   "metadata": {},
   "source": [
    "I haven't started on my final project yet, but I hope to brainstorm ideas for it."
   ]
  },
  {
   "attachments": {},
   "cell_type": "markdown",
   "metadata": {},
   "source": [
    "### Other\n",
    "\n",
    "*Is there anything else that you want to share with me about what you have learned, how you have participated, or what you have achieved in CSCI 0451?*"
   ]
  },
  {
   "attachments": {},
   "cell_type": "markdown",
   "metadata": {},
   "source": [
    "I have really enjoyed learning about bias in Machine Learning, it is somehing I've never thought critically about before. Knowing now, how important it is to question the conclusions made by algorithms, I want to learn more about how to assess and notice when biases may be present."
   ]
  },
  {
   "attachments": {},
   "cell_type": "markdown",
   "metadata": {},
   "source": [
    "### Updating Your Goals\n",
    "\n",
    "From your experience in CSCI 0451 and your other classes this semester, you may feel moved to make modifications to your goals. Are they still feasible? Too ambitious? Not ambitious enough? If you would like to revise any of your goals from your reflective goal-setting, you can do so below. For each goal you want to modify: \n",
    "\n",
    "1. Clearly state what the goal was. \n",
    "2. Clearly state how you've done on that goal so far. \n",
    "3. Clearly state your proposed revised goal for the remainder of the course. "
   ]
  },
  {
   "attachments": {},
   "cell_type": "markdown",
   "metadata": {},
   "source": [
    "**Goals:**\n",
    "\n",
    "    * Completing 4 Blog posts, one on each of the categories\n",
    "        - I have completed 2 posts so far.\n",
    "        - I don't have any planned revisions so far\n",
    "    * Coming prepared to each class by completing the warmup\n",
    "        - I've done all the warmups to the best of my ability so far\n",
    "        - I don't have any planned revisions so far\n",
    "    * Participating in class\n",
    "        - I think I've been doing alright participation-wise. I definitely don't ask all the questions that I have so I could be better about that. But in terms of group participation, I have been participating well in the warmup activity discussions\n",
    "        - I don't have any revisions to this goal- I just want to participate more to meet this goal\n",
    "    *Doing the Final Project\n",
    "        - This hasn't happened yet but I'm thinking of a topic that I'm interested in which is a good start.\n",
    "        - No revisions a the moment, I just want to use ML on a dataset that interests me.\n"
   ]
  },
  {
   "attachments": {},
   "cell_type": "markdown",
   "metadata": {},
   "source": [
    "## Grade and Goals\n",
    "\n",
    "*Take 15 minutes to look back on your responses in each of the sections above. Then, state the letter grade that you feel reflects your learning, participation, and achievement in CSCI 0451 **so far**, and contextualize it against some of the soundbytes below.* \n",
    "\n",
    "### What a Grade Sounds Like\n",
    "\n",
    "*An **A** sounds like:* \n",
    "\n",
    "- *\"I am very proud of my time in this course.\"*\n",
    "- *\"I have grown significantly in multiple ways that matter to me.\"*\n",
    "- *\"I am ready to take the theory, techniques, and ideas of this course into my future classes, projects, hobbies, or career.\"* \n",
    "\n",
    "*A **B** sounds like:* \n",
    "\n",
    "- *\"I had some opportunities to learn more, overall I feel good about my time in this course.\"*\n",
    "- *\"I am able to explain some new things or achieve new tasks.\"*\n",
    "- *\"I can see a few ideas from this course that will be relevant for my future classes, projects, hobbies, or career.\"*\n",
    "\n",
    "*A **C** sounds like:* \n",
    "\n",
    "- *\"I often made a good effort, but I missed many opportunities to get more out of my time in this course.\"*\n",
    "- *\"I might be able to complete some new tasks related to the course content, but only with significant further guidance.\"* \n",
    "- *\"I don't see any ways to take the contents of this course into my future classes, projects, hobbies, or career.\"*\n",
    "\n",
    "*You might find that some of these soundbytes resonate and other's don't! Take some time, see what feels right, and don't be afraid to celebrate your achievements.* "
   ]
  },
  {
   "attachments": {},
   "cell_type": "markdown",
   "metadata": {},
   "source": [
    "> **Upon reflection, I feel that my learning, participation, and achievement in CSCI 0451 (so far) are best reflected by a grade of** B\n",
    "\n",
    "> **A way in which I resonate with the soundbytes for that grade above is...** \n",
    "\" I see a few ideas... that will be relevant for future classes...\" and \"I am able to ... achieve new tasks\" with these new skills. \n",
    "I also do see opportunities to learn more- e.g. blog posts- but overall, I feel good about my time in this course.\n",
    "\n"
   ]
  },
  {
   "attachments": {},
   "cell_type": "markdown",
   "metadata": {},
   "source": [
    "## (Optional:) How to Improve? \n",
    "\n",
    "*You may feel disappointed by your reflection. Sometimes we don't achieve all our goals -- it happens and it's normal! If you are feeling disappointed by how you've learned, participated, or achieved in CSCI 0451, then feel free to write something about that below. Feel free to just write your feelings. If you have ideas for how to move forward, include those too! We'll talk.* "
   ]
  },
  {
   "attachments": {},
   "cell_type": "markdown",
   "metadata": {},
   "source": [
    "As previously stated, I want to check in with Prof. Phil about where I'm at and how to proceed in the next couple of weeks. At the start of the semester I said I wanted to consider taking this course C/NC and given the amount of work and effort I've put into the course so far, I think that is my best option. \n",
    "\n",
    "I overall feel like I have learned so much in this course. So many parts of my life outside of this course- WiDS, Multivariable calculus- have ties to this course and have lead me to be more engaged and interested in topics that I may not have thought would interest me. "
   ]
  }
 ],
 "metadata": {
  "kernelspec": {
   "display_name": "ml-0451",
   "language": "python",
   "name": "python3"
  },
  "language_info": {
   "name": "python",
   "version": "3.9.18"
  },
  "orig_nbformat": 4,
  "vscode": {
   "interpreter": {
    "hash": "debe06cc0f9553f110b64dc3926c05df82dae2145b852c8422b9c04315589dcb"
   }
  }
 },
 "nbformat": 4,
 "nbformat_minor": 2
}
