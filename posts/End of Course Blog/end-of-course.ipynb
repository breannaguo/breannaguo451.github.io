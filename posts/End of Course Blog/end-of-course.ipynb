{
 "cells": [
  {
   "cell_type": "raw",
   "metadata": {},
   "source": [
    "---\n",
    "title: \"End-Of-Course Reflection\"\n",
    "type: \"Reflection\"\n",
    "date: 2024-05-15\n",
    "description: |\n",
    "    We reflect on our learning, engagement, and achievement over the course of the semester. \n",
    "objectives: \n",
    "  - Reflection\n",
    "publish: \"true\"\n",
    "---"
   ]
  },
  {
   "attachments": {},
   "cell_type": "markdown",
   "metadata": {},
   "source": [
    "# Instructions\n",
    "\n",
    "- [Download this notebook](https://middlebury-csci-0451.github.io/CSCI-0451-s24/assignments/process/end-of-course.ipynb)\n",
    "- Open the notebook in an editor of your choice (I recommend either VSCode or JupyterLab). \n",
    "- Delete the first two cells of the notebook (i.e. this one and the raw cell above). \n",
    "- Briefly review the goals you set for yourself in our [goal-setting activity](goal-setting.ipynb) at the beginning of the course. You can find your goals on Canvas. \n",
    "- In the [The Data](#the-data) section, replace the blanks with brief responses. \n",
    "- In the [What you Learned](#what-you-learned) and [Reflecting on Goals](#reflecting-on-goals) sections, write down your reflections on your learning, achievement, and presence in CSCI 0451 in the provided markdown cells. \n",
    "- Take some time to reflect on your responses so far. When you're ready, move on to [propose the letter grade](#your-proposed-letter-grade) that you feel best reflects your learning, participation, and achievement in CSCI 0451. \n",
    "- Submit the notebook as a PDF on Canvas. \n",
    "- **Make an appointment with me** (use the link posted on Canvas) in which we will discuss your learning in the course and your final grade. \n",
    "\n",
    "*There are lots of ways to render Jupyter notebooks as PDFs. The simplest way is to run this at the command line, after you've navigated to the location of the notebook*: \n",
    "\n",
    "```bash\n",
    "jupyter nbconvert --to pdf end-of-course.ipynb\n",
    "```"
   ]
  },
  {
   "attachments": {},
   "cell_type": "markdown",
   "metadata": {},
   "source": [
    "# CSCI 0451: End-Of-Course Reflection\n",
    "\n",
    "Breanna Guo"
   ]
  },
  {
   "attachments": {},
   "cell_type": "markdown",
   "metadata": {},
   "source": [
    "## The Data\n",
    "\n",
    "In this section I'll ask you to fill in some data. You don't have to give precise numbers -- approximate, conversational responses are fine. For example, when I ask \"how often did you attend class,\" good answers include \"almost always,\" \"I missed three times,\" \"about 75% of the time,\" \"not as often as I wanted,\" etc. \n",
    "\n",
    "### Presence in Class\n",
    "\n",
    "- *How often did you attend class? (e.g. \"almost always,\" \"I missed three times,\" etc.)* ____\n",
    "I was in class most days, except when sick.\n",
    "- *How often did you take notes on the core readings ahead of the class period?* ____\n",
    "I always did the readings although I did not take notes.\n",
    "\n",
    "- *How often were you **prepared** to present the daily warm-up exercise to your team, even if you weren't actually called?* ____\n",
    "I was often prepared, with the exception of two warm-ups\n",
    "\n",
    "- *How many times did you **actually** present the daily warm-up to your team?* ____\n",
    "I was the leader 4 or 5 times in the daily warm up, but our group often would go around the circle and present/discuss our thoughts on the warumup assignment so it was more than that.\n",
    "- *How many times did you ask your team for help while presenting the daily warm-up?* ____\n",
    "I asked for help once from my team.\n",
    "- *How often did you learn something new from a teammate's presentation of the daily warm-up?* ____\n",
    "I almost always learned something new\n",
    "- *How often did you help a teammate during the daily warm-up presentation?* ____\n",
    "I helped out my teammates once or twice \n",
    "- *Did you contribute a question for our guest speaker?* ____\n",
    "I don't beleive we had a guest speaker, unfortunately\n",
    "\n",
    "### Presence Outside of Class \n",
    "\n",
    "- *How often did you attend Student Hours or Peer Help?* ____\n",
    "I attended student hours two to three of times\n",
    "- *How often did you ask for or receive help from your fellow students?* ____\n",
    "I sometimes asked for help from friends in the class\n",
    "- *Did you regularly participate in a study group outside class?* ____\n",
    "I did not have a regular study group\n",
    "- *How often did you post questions or answers in Slack?* ____\n",
    "I was not engaged in the slack discussions\n",
    "\n",
    "### Assignments and Effort\n",
    "\n",
    "- *How many blog posts did you submit?* ____\n",
    "I have submitted three and plan on submitting one more.\n",
    "- *How many of your submitted blog posts are at each of the following feedback stages?*\n",
    "    - *No revisions suggested:* ____\n",
    "    2\n",
    "    - *Revisions useful:* ____\n",
    "    1\n",
    "    - *Revisions encouraged:* ____\n",
    "    0\n",
    "    - *Incomplete:* ____\n",
    "    1\n",
    "- *Roughly how many hours per week did you spend on this course outside of class?* ____\n",
    "I spent about 2 hours a week on this course outside of class.\n"
   ]
  },
  {
   "attachments": {},
   "cell_type": "markdown",
   "metadata": {},
   "source": [
    "## What You Learned\n",
    "\n",
    "*At the beginning of the course, you may have expressed an interest in focusing a little extra on one or two of the following four categories:* \n",
    "\n",
    "- ***Theory***: *mathematical descriptions of frameworks and algorithms.*\n",
    "- ***Implementation***: *effective coding and use of tools in order to implement efficient machine learning algorithms.*\n",
    "- ***Experimentation***: *performing experiments to assess the performance of algorithms and clearly communicating about the results.*\n",
    "- ***Social responsibility***: *critical analysis of sources of bias and harm in machine learning algorithms; theoretical formulations of fairness and bias*\n",
    "\n",
    "*Did you choose to focus on any of these categories? If so, what did you do in order to pursue your interest?*    \n",
    "\n",
    "I ended up focusing on social responsibility and implementation. I found myself really fascinated by the social responsibility portion and did some work outside of this class as well on the topic of ML bias. In the final project I was a part of, I found myself working a lot on the implementation of the models and trying to maximize accuracy in the specific areas of interest."
   ]
  },
  {
   "attachments": {},
   "cell_type": "markdown",
   "metadata": {},
   "source": [
    "## Reflecting on Goals\n",
    "\n",
    "*For each of the categories below, replace the \"[your response here]\" cell with 1-2 paragraphs in which you reflect on the following questions:* \n",
    "\n",
    "- *In what ways did you **meet** your goals from the beginning of the course? Be specific: explain what the goal was and what you did to meet it.* \n",
    "- *In what ways did you **not meet** your goals from the beginning of the course? Be specific: explain what the goal was and what the gap was between what you aspired to and what happened.* \n",
    "- *If there's any **context** you want to share about how you fared relative to your goals, please do!*\n",
    "\n",
    "### Blog Posts"
   ]
  },
  {
   "attachments": {},
   "cell_type": "markdown",
   "metadata": {},
   "source": [
    "At the beginning of the semester I chatted with Prof. Phil about what my blog post goals should be while taking the class C/NC and we agreed on four blog posts, which I plan on achieving by the end of this semester.\n",
    "\n",
    "I of course which I had more time to take on more blog posts. I think as an ambitious personal goal of mine I wanted to do at least two blog posts a month which would have been six total. Given challenges I faced throughout the semester that became impossible.\n",
    "\n",
    "I think in terms of the goals I set with Prof. Phil at the beginning of the semester I was successful, and I really am proud of myself for completeing what I have given the circumstances. "
   ]
  },
  {
   "attachments": {},
   "cell_type": "markdown",
   "metadata": {},
   "source": [
    "### Course Presence (Participation)"
   ]
  },
  {
   "attachments": {},
   "cell_type": "markdown",
   "metadata": {},
   "source": [
    "I really enjoy what I've learned from this class and attending this class was always fascinating, which I wanted to reflect in my course participation. I attended all classes except the ones I was sick for and always found myself learning something new. \n",
    "I wasn't always able to complete the warmup whether it was due to lack of skill or lack of time. One of my goals at the start of the semester was to always do the warmup. I would always give it my best shot but was not always successful and completeing the warmup.\n",
    "Overall, I'm very happy with my course presence. I also set a goal in my mid-course reflection to ask more questions/ask questions when I had them and I feel like I did a better job of that in the second half of the course."
   ]
  },
  {
   "attachments": {},
   "cell_type": "markdown",
   "metadata": {},
   "source": [
    "### Project "
   ]
  },
  {
   "attachments": {},
   "cell_type": "markdown",
   "metadata": {},
   "source": [
    "I enjoyed the project because it allowed me the apply a lot of the skills I had learned in this class to an interesting questions. I didn't have any project specific goals other than to work on a project of interest using new skills. I was also able to learn some new things while working on the project."
   ]
  },
  {
   "attachments": {},
   "cell_type": "markdown",
   "metadata": {},
   "source": [
    "### Other\n",
    "\n",
    "*Is there anything else that you want to share with me about what you learned, how you participated, or what you achieved in CSCI 0451?*"
   ]
  },
  {
   "attachments": {},
   "cell_type": "markdown",
   "metadata": {},
   "source": [
    "I really enjoyed the lectures on photo recognition and convolutional neural networks. I would have liked to spend more time thoughtfully going through the coding and intuition for CNNs. "
   ]
  },
  {
   "attachments": {},
   "cell_type": "markdown",
   "metadata": {},
   "source": [
    "# Your Proposed Letter Grade\n",
    "\n",
    "*Take 15 minutes to look back on your responses in each of the sections above. Then, make a proposal for the letter grade that you feel best reflects your learning, participation, and achievement in CSCI 0451. Here are some soundbytes to help guide your thinking:*\n",
    "\n",
    "*An **A** sounds like:* \n",
    "\n",
    "- *\"I am very proud of my time in this course.\"*\n",
    "- *\"I have grown significantly in multiple ways that matter to me.\"*\n",
    "- *\"I am ready to take the theory, techniques, and ideas of this course into my future classes, projects, hobbies, or career.\"* \n",
    "\n",
    "*A **B** sounds like:* \n",
    "\n",
    "- *\"I had some opportunities to learn more, overall I feel good about my time in this course.\"*\n",
    "- *\"I am able to explain some new things or achieve new tasks.\"*\n",
    "- *\"I can see a few ideas from this course that will be relevant for my future classes, projects, hobbies, or career.\"*\n",
    "\n",
    "*A **C** sounds like:* \n",
    "\n",
    "- *\"I often made a good effort, but I missed many opportunities to get more out of my time in this course.\"*\n",
    "- *\"I might be able to complete some new tasks related to the course content, but only with significant further guidance.\"* \n",
    "- *\"I don't see any ways to take the contents of this course into my future classes, projects, hobbies, or career.\"*\n",
    "\n",
    "*You might find that some of these soundbytes resonate and other's don't! Take some time, see what feels right, and don't be afraid to celebrate your achievements.* "
   ]
  },
  {
   "attachments": {},
   "cell_type": "markdown",
   "metadata": {},
   "source": [
    "[Your proposed letter grade in this section should be based purely on demonstrations of learning that you have **already submitted**.]{.aside}\n",
    "\n",
    "> **Upon reflection, I feel that my learning, participation, and achievement in CSCI 0451 are best reflected by a grade of** ____ \n",
    "\n",
    "I believe that I have earned a credit in this class. I have attended and engaged in class, and have put effort outside of class to prepare for warmups and complete some of the blog posts. I see myself taking the skills I learned in this class and applying them to future projects. I would feel comfortable applying, and have already applied, some of the things I learned in this class to other situations and tasks.\n"
   ]
  }
 ],
 "metadata": {
  "kernelspec": {
   "display_name": "ml-0451",
   "language": "python",
   "name": "python3"
  },
  "language_info": {
   "name": "python",
   "version": "3.9.15"
  },
  "orig_nbformat": 4,
  "vscode": {
   "interpreter": {
    "hash": "debe06cc0f9553f110b64dc3926c05df82dae2145b852c8422b9c04315589dcb"
   }
  }
 },
 "nbformat": 4,
 "nbformat_minor": 2
}
