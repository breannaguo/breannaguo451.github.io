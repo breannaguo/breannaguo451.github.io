{
 "cells": [
  {
   "cell_type": "markdown",
   "metadata": {},
   "source": [
    "# WiDS Conference 2024\n",
    "#### Breanna Guo"
   ]
  },
  {
   "cell_type": "markdown",
   "metadata": {},
   "source": [
    "## Abstract:\n",
    "This post covers my thoughts on the reading *Solving the Equation: The variables for Women's Success in Engineering and Computing*, as well as a synopsis of the talks I attended and what I learned from attending the event\n",
    "\n",
    "I would like to note that the WiDS 2024 event was organized by me and Professor Tang from the math and statistics department as an ongiong effort to bring more data science events to Middlebury by highlighting the incredible data science work done by women. This is an opportunity for students to learn about the interdisciplenary applications of data sciecne skills and meet peers who are also interested in data science.\n",
    "\n",
    "This event was such a success. The keynote from Professor Sarah Brown was incredible. A big takeaway I had was that a lot of the issues people run into when using machine learning doesn't have to do with the algorithm or the code (maybe in Professor Biesters case wrangling all of Reddits posts it would be). Rather, the issues stem from misinterpretations of the data, data that lies about what it's meant to represent, and challenges collecting best data to represent the issues at hand. The anecdote that stood out to me the most was Professor Browns story of collaborating with a social psychologist to ask people the appropriate questions to reveal bias. When working with such abstract topics such as bias and fairness, I was very impressed by how creative people were able to get to overcome unexpected obstacles."
   ]
  },
  {
   "cell_type": "markdown",
   "metadata": {},
   "source": [
    "## Part 1: Why Spotlight Women in Data Science?\n",
    "\n",
    "#### Why is it a problem that women are underrepresented in computing, math, and engineering? For whom is it a problem?\n",
    "\n",
    "> \"Half our team, we’re not even putting on the field. We’ve got to change those numbers.\" Former President Barack Obama, 2014 White House Science Fair\n",
    "\n",
    "Underrepresentation of women in computing, math and engineering fileds creates stereotypes that women are worse than men in these fields, which leads to biases in decision making processes e.g. hiring. These stereotypes also lead to a negative feedback look where women become less engaged in the fields that they are negatively stereotyped in, or they perform worse at tasks when reminded of the negative stereotypes against them in those tasks. The presence of women at all levels of the organization can create more community for women, in addition to more female role models. Having more women in these fields would help reduce the implicit gender-science bias in both men and women. These issues do not lie solely apply to women. The biases that lead to underrepresenation impact everybody. As said by former president Barack Obama, less women in the field means there's a lot of labor missing that could be there. More minds working on computing, mathm and engineering would benefit us all. \n",
    "\n",
    "#### How is the representation and status of women in computing today different from the 1950s and 1960s? What are some of the forces that brought on this change?\n",
    "Representation of women in computing grew from 1960 to 1990, but then actually declined back to 1960 levels by 2013 at just over 25% of workers. This is different from most other stem fields where, no matter how small the portion of women labor is, grew female participation from 1960 to 2013. Many large tech companies eg. Twitter, Google and Facebook had 20% or lower female participation. Starting in the mid-1900's, both men and women start working clerical jobs and into the computer and IT sector. But then companies started using aptitude tests to get new hires, and these tests would favor men. Additionally, computer science programs began to get located in engineering colleges, which were histically all men (maybe 1% women). With the rise of personal computers, one could argue that men and boys clung onto a germa culture that became inaccessible for women. Another possibility to explain the drop of female participation in the computing sector is since so many people wanted to get computer science degrees, schools started restricting attendance, and these restrictions were often biased against women. This trend of low female representation in computing fields remains a problem to this day.\n",
    "\n",
    "#### Which of the barriers and unequal challenges described in the section “Why So Few?” can be eroded by events that spotlight the achievement of women in STEM?\n",
    "The section mentions many challenges that come from a lack of representation in STEM field. Isolation, which comes from a lack of voice and support in their field, can be avoided if there are regular events that highlight the presence of women in these fields in addition to their contributions and accomplishments. Another is stereotypes, and more specifically, microinequities. These effect the confidence of students overtime and can ultimately influence their career choice. Microinequities are often pointed towards women in STEM fields, and could deter them from pursuiting their studies in that field further, even if they are equally as qualified as their male peers. These stereotypes can also lead to biases that affect women in their jobs, whether it be the hiring process or performance reviews. Showcasing the work of women in the field is a powerful way of disassembling the stereotype that women don't belong in the field and should not attempt to be. Evenmore, sexism and sexual harrasment are pervasive and can be masked by women who are trying to \"fit in\". This ties into the final topic of this section where they describe many women feeling a lack of belonging in their field. If the work of women in STEM were better known, that would create a sense of belonging for women in the field and could reduce their willingness to let assault slide for the sake of fitting in."
   ]
  },
  {
   "cell_type": "markdown",
   "metadata": {},
   "source": [
    "## Part 2: Attend WiDS\n",
    "Done!"
   ]
  },
  {
   "cell_type": "markdown",
   "metadata": {},
   "source": [
    "## Part 3: Report!\n",
    "\n",
    "What was talked about, what was learned eg. data sources, what was the result of the lecture, what are assumptions they made in their research, issues they came across\n",
    "\n",
    "#### Prof. Amy Yuen, Political Science: Is the United Nations Security Council a Democratic Institution? Musings and Measures of Representation\n",
    "Honestly, this topic was pretty foreign (pun not intended) to me. This is my best interpretation of the contents of the talk:\n",
    "**RQ: Why do elected members continue to run for seats?/ what is their influence**\n",
    "So few members of the audience truly understood the purpose of the UN Security Council and maybe that was due to the audience being a lot of non-political science majors, but Professor Yuen agreed to the sentiment- and if we know so little about this council, why are members rerunning for the council and what exactly is their influence? One of the facts she revealed is that the UN Security Council voting rules favor the powerful.\n",
    "Their data collection process involved interviewing with council members and looking at data to see why they want to rerun.\n",
    "First, they asked the question **is the security countil democratic?** They found that no, democracy is when everybody has an equal vote and only 5 people have a veto vote on the council, which means not everybodies vote is equal. They measured several things to answer \n",
    "*who engages in the council, and whose issues get attention*. Measured things include resolutions, formal meetings, who is sponsoring resolutions.\n",
    "**Findings**\n",
    "They have found that passed resolution sponsorship count was higher for permanent members, then sitting elected members (policy entrepreneurs), and very little from those not on council. By geographic region, council members from EAS and ECS (europeans and east africa) have a lot of influence. They found that the most frequently elected council members are Japan, then Brazil (these countries give a lot of money to the cause and are very active members). But these are up to change: Japan might not run again due to domestic issues, Canada used to be a frequent flyer before dropping off once they lost to Ireland.\n",
    "In summary, in terms of representation, they find that while the council is not democratic, it could be worse. Moving forward, they're going to look into what this means for output and effectiveness, which could involve looking into what language gets put into resolutions etc.\n",
    "\n",
    "Professor Yuen's talk went into a lot of depth about this one research project of hers. \n",
    "\n",
    "\n",
    "#### Prof. Jessica L'Roe, Geography: Beyond Deforestation: Monitoring Change in Tropical Forest Landscapes\n",
    "I really liked Professor L'Roe's talk because she talked about her experience as a woman coming from  a background where gender stereotypes are enforced, and entering into stereotypically male, and male-biased field. The projects she talked about were all very insightful as well, because they highlighted an aspect of the data process that is sometimes overlooked, which is the data collection process before it's in excel and csv form. She has collaborated with people all over the world, particularly South America and Africa, to collect deforestation data on the ground by going from plot of land to plot of land asking about land ownership.\n",
    "\n",
    "Something interesting she noticed in one of the data sets she worked with is that people would lie about the size of their properties to be just under thresholds that, when crossed, would subject them to additional fees. I found this fascinating because there was an economics experiment done one a baby healthcare policy that found the policy was ineffective, but upon further exploration into the data, they found that the data was skewed in the sense that nurses were recording babies just under the weight threshold to give them additional help when they might have actually been over that threshold. This phenomenon clearly is not a one-time instance and it's possible to appear to many different types of data sources.\n",
    "\n",
    "Other data sources Professor L'Roe uses are surveys and interviews with local. She claimed that her role is connecting people to pixels and telling their story, which I found to be a great way to describe the work with data that she does.\n",
    "\n",
    "#### Prof. Laura Biester, Computer Science: Computational Linguistic Models of Mental Health\n",
    "Professor Biester's research explore the **connection between language and mental health**. Early research shows people with depressions more commonly use first-person pronouns. Now, it's possible to take data from the internet to look into this. Within Natual Language Processing, this has become a topic of interest.\n",
    "\n",
    "In her data, Professor Biester ran into some **issues with data**. One huge challenge of collecting text data is privacy, and so a lot of researchers use public data relying on \"self reports\" of mental illness to identify those illnesses. In 2013, De Choudhury used Machine Learning to predict depression before onset from Twitter data, followed by Yates et al. who applied Deep Learning to reddit posts for depression prediction. In Professor Biesters research, they collected their own data, using Reddit data (all of it). Using the assumption that users who self-report were once in the symptom onset / pre-diagnosis stage, they have data to train on to create models that can predict if other users are in the pre-diagnosis stage of depression. This research is ongoing. This talk lead me to wonder if these methods can be used for more than just depression. Could it be used to detect anxiety or PTSD?\n",
    "\n",
    "#### Prof. Sarah Brown, Computer Science: Data Science in Unexpected Places\n",
    "Inlcude: topic, primary argument, what was learned\n",
    "\n",
    "Professor Sarah Browns Big Question is **making Machin Learning more fair**. A lot of times when we learn to be data scientists, we learn the stats, the computer science, and then apply those to some sort of domain. But Professor Brown agues that domain expertise is an essential part of being a successful data scientist. While we can try to just work with people in the domain of interest, without the notion to do so and without and basic domain knowledge ourselves, we are unable to critically and creatively make a predictive model about that domain. So for Professor Brown, her next question became **What can we put in a data scientists toolbox to help them make fair ML?** or to allow them to collaborate better with domain experts?\n",
    "She dove into three lessons that helper her supass challenges in her data and machine learning process:\n",
    "##### 1.\n",
    "Her first lesson came from her 2006 High School social studies class. They used context to understand primary sources, which resulted in the lesson: **Understand data's context**\n",
    "In 2012, she was working on a project involving data for diagnosing patients with PTSD. If the patient scores above a threshold on a certain medical exam, they are considered to have PTSD. Otherwise, they don't. The goal of this project was to provide a computerized exam to score patients. This is where the screen started glitching and I went to help fix the screen. I honestly don't know how this one ended. But I know they ended up adding a classifier to their linear algorithm or something like that. Using the data's contest to build a better model.\n",
    "\n",
    "##### 2.\n",
    "She learned in her Advanced Writing course in grad school that **Disciplines are communities**. Much later in her career, when giving talk to colleague about fariness in ML, she argued that forcing fariness in one way reveals bias in other ways. Another professor approached her with the research question **What if this is used to understand how people are biased?**. This lead to a deeper discussion with that professor about how her current data was being collected and she ended up adjusting her methodology after realizing the current literature that she was following was written by computer science researchers and the skills needed were not computer science, rather social psychology skills. She worked with more people in social psychology field to understand biases better and improve her data collection questions.\n",
    "\n",
    "##### 3.\n",
    "Her final lesson was learnd while on the board for National Society of Black Engineers. The national chapter was trying to get chapters to implement projects but they never ended up getting implemented. They finally realized that Student organizations don't have the level of assistance that the national level organizations had. So the had to **Meet people where they are**. Once she became a part of the machine learning field, she recognized an issue that when creating an ML model, people would often hesitate to make a model more fair once they learned how accurate it was. So Professor Brown set out to see if there is a way to indicate fariness before even fitting the model, so there is no trade off between accuracy and fairness, and the focus is entirely on the fairness of the model. Her solution to enforce fairness in models is to teach model auditing before teaching her students how to fit models\n",
    "\n",
    "I really enojoyed this talk because the lessons are absolutely ones that I will take away with me. I took an economic psychology class one J-Term and learning about how a simple question can result in biased answers and then hearing that same sentiment shared in the second lesson was such a full-circle moment. I absolutely agree that discipline expertise in the field of data science is way understated, and that to fully understand the machine learning process from the very start of data collection to the very end of making a model, understanding the social implications of the process is essential."
   ]
  },
  {
   "cell_type": "markdown",
   "metadata": {},
   "source": [
    "## Part 4: Reflection\n",
    "\n",
    "I learned a lot from the reading. While I've always believed that striving for female representation in STEM fields is important, all the reasons listed in the reading were helpful to deepend my understanding of why exactly more women in STEM is so important. \n",
    "\n",
    "Collaborating with all of these phenomenal women to host this event has been such a wonderful experience, and honestly the majority of learning happened when I spoke to the speakers outside of the event. I thought the work that Lauren Vollmer-Forrow does is fascinating and it's truly a shame that the alumni panel wasn't longer. The statistical modelling that she does for the government is such a cool example of math skills that are learned at Middlebury being applied to inform policy decision.\n",
    "\n",
    "I hope to learn more about the methods of reducing bias in models. Hopefully that will be in the form of completing a blog post.\n",
    "\n",
    "Something else for me to do is create a feedback form to hear from the audience- what speakers people enjoyed, what they wished there was more/less of, what is a snack you want to see at next years event?\n"
   ]
  }
 ],
 "metadata": {
  "kernelspec": {
   "display_name": "ml-0451",
   "language": "python",
   "name": "python3"
  },
  "language_info": {
   "name": "python",
   "version": "3.9.18"
  }
 },
 "nbformat": 4,
 "nbformat_minor": 2
}
