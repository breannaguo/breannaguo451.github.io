{
 "cells": [
  {
   "cell_type": "markdown",
   "metadata": {},
   "source": [
    "# WiDS Conference 2024\n",
    "#### Breanna Guo\n"
   ]
  },
  {
   "cell_type": "markdown",
   "metadata": {},
   "source": [
    "## Abstract:\n",
    "This post covers my thoughts on the reading *Solving the Equation: The variables for Women's Success in Engineering and Computing*, as well as a synopsis of the talks I attended and what I learned from attending the event\n",
    "\n",
    "I would like to note that the WiDS 2024 event was organized by me and Professor Tang from the math and statistics department as an ongiong effort to bring more data science events to Middlebury by highlighting the incredible data science work done by women. This is an opportunity for students to learn about the interdisciplenary applications of data sciecne skills and meet peers who are also interested in data science.\n",
    "\n",
    "my biggest takeaways"
   ]
  },
  {
   "cell_type": "markdown",
   "metadata": {},
   "source": [
    "## Part 1: Why Spotlight Women in Data Science?\n",
    "Why is it a problem that women are underrepresented in computing, math, and engineering? For whom is it a problem?\n",
    "\n",
    "> \"Half our team, we’re not even putting on the field. We’ve got to change those\n",
    "numbers.\" Former President Barack Obama, 2014 White House Science Fair\n",
    "\n",
    "Underrepresentation of women in computing, math and engineering fileds creates stereotypes that women are worse than men in these fields, which leads to biases in decision making processes e.g. hiring. These stereotypes also lead to a negative feedback look where women become less engaged in the fields that they are negatively stereotyped in, or they perform worse at tasks when reminded of the negative stereotypes against them in those tasks. The presence of women at all levels of the organization can create more community for women, in addition to more female role models. Having more women in these fields would help reduce the implicit gender-science bias in both men and women. These issues do not lie solely apply to women. The biases that lead to underrepresenation impact everybody. As said by former president Barack Obama, less women in the field means there's a lot of labor missing that could be there. More minds working on computing, mathm and engineering would benefit us all. \n",
    "\n",
    "How is the representation and status of women in computing today different from the 1950s and 1960s? What are some of the forces that brought on this change?\n",
    "\n",
    "Which of the barriers and unequal challenges described in the section “Why So Few?” can be eroded by events that spotlight the achievement of women in STEM?"
   ]
  },
  {
   "cell_type": "markdown",
   "metadata": {},
   "source": [
    "## Part 2: Attend WiDS\n",
    "Done"
   ]
  },
  {
   "cell_type": "markdown",
   "metadata": {},
   "source": [
    "## Part 3: Report!\n",
    "\n",
    "What was talked about, what was learned eg. data sources, what was the result of the lecture, what are assumptions they made in their research, issues they came across\n",
    "\n",
    "#### Prof. Amy Yuen, Political Science: Is the United Nations Security Council a Democratic Institution? Musings and Measures of Representation\n",
    "\n",
    "\n",
    "\n",
    "\n",
    "#### Prof. Jessica L'Roe, Geography: Beyond Deforestation: Monitoring Change in Tropical Forest Landscapes\n",
    "\n",
    "\n",
    "\n",
    "#### Prof. Laura Biester, Computer Science: Computational Linguistic Models of Mental Health\n",
    "\n",
    "\n",
    "\n",
    "#### Prof. Sarah Brown, Computer Science: Data Science in Unexpected Places\n",
    "Inlcude: topic, primary argument, what was learned"
   ]
  },
  {
   "cell_type": "markdown",
   "metadata": {},
   "source": [
    "## Part 4: Reflection\n",
    "\n",
    "What i learned from completing this blog post, what I hope to learn next\n"
   ]
  }
 ],
 "metadata": {
  "kernelspec": {
   "display_name": "ml-0451",
   "language": "python",
   "name": "python3"
  },
  "language_info": {
   "name": "python",
   "version": "3.9.18"
  }
 },
 "nbformat": 4,
 "nbformat_minor": 2
}
