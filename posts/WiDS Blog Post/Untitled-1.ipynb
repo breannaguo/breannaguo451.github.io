{
 "cells": [
  {
   "cell_type": "markdown",
   "metadata": {},
   "source": [
    "#WiDS 24 Stanford conference"
   ]
  },
  {
   "cell_type": "markdown",
   "metadata": {},
   "source": [
    "** What I learned and who I met\n",
    "\n",
    "Kelly Stroh- works at a pet insurance company discussed potential bias in the ML algorithems used to determine insurance policy when it comes to pet nicknames from other languages that the algorithm might not be able to discern.\n",
    "\n",
    "S- WiDS ambassador from Tel Aviv but works at Intuit, specifically working with the algorithms that read in information from tax forms (Turbo tax)\n",
    "\n",
    "Mariana- WiDS ambassador from Lima Peru, doing her undergrad thesis on the Peruvian sign language which involves collecting video data of all of the alphabet signs and then programming them\n",
    "\n",
    "Ellen Pao- former Kleiner Perkings employee who sued them for discrimmination, became interim Reddit CEO and now has started Project Interlude\n",
    "\n",
    "Emily Gordon- Stanford Post-doc, we can create models of the worlds climate systems to isolate the effect of CO2 and other agents on global warming"
   ]
  }
 ],
 "metadata": {
  "language_info": {
   "name": "python"
  }
 },
 "nbformat": 4,
 "nbformat_minor": 2
}
