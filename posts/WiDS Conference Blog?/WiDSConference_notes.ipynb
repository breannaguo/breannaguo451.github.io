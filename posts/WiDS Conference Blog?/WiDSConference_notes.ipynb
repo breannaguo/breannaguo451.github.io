{
 "cells": [
  {
   "cell_type": "markdown",
   "metadata": {},
   "source": [
    "#WiDS 24 Stanford conference"
   ]
  },
  {
   "cell_type": "markdown",
   "metadata": {},
   "source": [
    "** What I learned and who I met\n",
    "\n",
    "Kelly Stroh- works at a pet insurance company discussed potential bias in the ML algorithems used to determine insurance policy when it comes to pet nicknames from other languages that the algorithm might not be able to discern.\n",
    "\n",
    "S- WiDS ambassador from Tel Aviv but works at Intuit, specifically working with the algorithms that read in information from tax forms (Turbo tax)\n",
    "\n",
    "Mariana- WiDS ambassador from Lima Peru, doing her undergrad thesis on the Peruvian sign language which involves collecting video data of all of the alphabet signs and then programming them\n",
    "\n",
    "Ellen Pao- former Kleiner Perkings employee who sued them for discrimmination, became interim Reddit CEO and now has started Project Interlude\n",
    "\n",
    "Emily Gordon- Stanford Post-doc, we can create models of the worlds climate systems to isolate the effect of CO2 and other agents on global warming\n"
   ]
  },
  {
   "cell_type": "markdown",
   "metadata": {},
   "source": [
    "\n",
    "**Alice chen zhang**\n",
    "*Ford data science manager working on charging/energy services and cycle plan*\n",
    " How can data scientist contribute to this shift to all-electric vehicles? Using big data and AI/ML to support business decision making and develop services. 1) enhancing the public charging experience. Problems are 1 in 5 EV charges fail, charging rn is slow. \n",
    "Challenges in solving this were in data collection process. There is a lack of data and noise in the data. Instead, planned for new data collection and decode, transform and build algorithms to clean data\n",
    "Challenges in modeling: cluter Goe locations using DBSCAN method, but werent sure how to set up the parameters and how frequently the clustering analysis should have been increased\n",
    "Also, when modelling site reliability, how to assign a reliability score with little to no pre-existing data? how much shuold the penalty be for  a failed charge? How to measure score confidence?\n",
    "Still working with engineers to classify failures to properly address the issues. \n",
    "Developing an algorithm to detect failure patterns to identify the issues before they even happen and using genAI to identify customer pain points"
   ]
  },
  {
   "cell_type": "markdown",
   "metadata": {},
   "source": [
    "#### Digital Economies"
   ]
  },
  {
   "cell_type": "markdown",
   "metadata": {},
   "source": [
    "**Nicole Carignan**\n",
    "*Strategic Cyber AI, Darktrace*\n",
    "Combating cyber attacks involves using ML to recognize attack patterns and usign LLm to find patterns of language use to classify the buisness patterns of life (unsupervised ML) to use against novel, nation , and a whole variety of attacks\n",
    "\n",
    "Specifically, uses unsupervised ML, bayesian, Deep neural networks, clustering, graph theory, anomaly detection\n",
    "\n",
    "Want to detect *Purple Fox* using darktrace AI\n"
   ]
  },
  {
   "cell_type": "markdown",
   "metadata": {},
   "source": [
    "**Zanele Munyikwa**\n",
    "Navigating future of work in the digital era\n",
    "Spoke about task-based framework\n",
    "Tech impact on labor:\n",
    "- Displacement effect\n",
    "    - decrease in H D for labor as AI replaces\n",
    "- Reinstatement Effect\n",
    "    - machines need new tasks to operate the machines\n",
    "- Productivity Effect\n",
    "    - substituation of labor on \n",
    "\n",
    "Role of Data:\n",
    "- Administrative using O*NET and Bureau and Labor stats\n",
    "- Data from experiments\n",
    "- Jpb postings, employee reviews, employment reports\n",
    "\n",
    "Case Study: GenAI\n",
    "how does GenAI effect jobs in copywriting\n",
    "3 treatments: no Ai, some AI, full AI help\n",
    "Assessed outcomes using: time spent writing ads, vocab diversity, etc.\n",
    "Outcome: more augmentations = less time spent and less subjective ownership\n",
    "What this means: concerns around job quality, job satisfaction. Ineq in the digital era\n"
   ]
  },
  {
   "cell_type": "markdown",
   "metadata": {},
   "source": [
    "**Sandra Moerch**\n",
    "*Is AI killing our purpose*\n",
    "Behind every design is an idea, and every idea has a purpose\n",
    "AI can help ideate, but cannot help us find purpose\n",
    "\n",
    "prompted genAI to draw engineer using genAI, and that came up with a white male every time. While unfortunate, this means we need to get more creative with our prompts. Generative prompter is a growing field.\n",
    "\n",
    "Generative design\n",
    "Ai can be used as a creative assistant- good for some, but bad for jobs\n",
    "\n",
    "Joining forces w AI vs trying to beat it"
   ]
  },
  {
   "cell_type": "markdown",
   "metadata": {},
   "source": [
    "In the break, met another woman working at Intuit who helps with making sure the data science teams are seamlessly running fairness checks on the models. That was great to hear that companies are implementing these checks and finding them important.\n",
    "\n",
    "Ford- hearing this talk lead me to "
   ]
  },
  {
   "cell_type": "markdown",
   "metadata": {},
   "source": [
    "Kimberly Babiarz using data science and remote sensing to detect where human trafficking is occuring in remote areas of Brazil\n",
    "\n",
    "Rebecca Portnoff is the CEO of Thorn, which is a non-profit that created a model to detect child sexual abuse on social media platforms. One challenge they came across that I found fascinating was that they ran into an issue training a model on CSA material when storing that data is illegal. They solved this by working directly with platforms to host the data and train their model on. "
   ]
  },
  {
   "cell_type": "markdown",
   "metadata": {},
   "source": [
    "Spoke with Zanele about her research at MIT and she offered some insight into the fact that AI is impacting men vs women differently, in that men and women have historically performed different tasks and therefore now when AI and robots replace people in certain tasks, it has an unequal effect on men and women. Could be an interesting research topic to look into for ECON final project."
   ]
  },
  {
   "cell_type": "markdown",
   "metadata": {},
   "source": [
    "WiDS datathon for blog post? creating ML to predict something using oncology data from Gilead "
   ]
  }
 ],
 "metadata": {
  "language_info": {
   "name": "python"
  }
 },
 "nbformat": 4,
 "nbformat_minor": 2
}
